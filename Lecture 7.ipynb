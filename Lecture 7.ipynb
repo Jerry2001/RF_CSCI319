{
 "cells": [
  {
   "cell_type": "code",
   "execution_count": 1,
   "id": "insured-large",
   "metadata": {},
   "outputs": [],
   "source": [
    "import torch\n",
    "import torch.nn as nn\n",
    "import torch.nn.functional as F\n",
    "import torch.optim as optim"
   ]
  },
  {
   "cell_type": "code",
   "execution_count": 2,
   "id": "second-vienna",
   "metadata": {},
   "outputs": [],
   "source": [
    "val1 = torch.FloatTensor([1, 2, 3])"
   ]
  },
  {
   "cell_type": "code",
   "execution_count": 3,
   "id": "awful-exchange",
   "metadata": {},
   "outputs": [
    {
     "name": "stdout",
     "output_type": "stream",
     "text": [
      "tensor([0.0900, 0.2447, 0.6652])\n"
     ]
    }
   ],
   "source": [
    "hypothesis = F.softmax(val1, dim=0)\n",
    "print(hypothesis)"
   ]
  },
  {
   "cell_type": "code",
   "execution_count": 4,
   "id": "ethical-qatar",
   "metadata": {},
   "outputs": [
    {
     "data": {
      "text/plain": [
       "tensor(1.)"
      ]
     },
     "execution_count": 4,
     "metadata": {},
     "output_type": "execute_result"
    }
   ],
   "source": [
    "hypothesis.sum()"
   ]
  },
  {
   "cell_type": "markdown",
   "id": "democratic-dylan",
   "metadata": {},
   "source": [
    "# Low-Level with Cross Entropy Loss"
   ]
  },
  {
   "cell_type": "code",
   "execution_count": 8,
   "id": "outstanding-carol",
   "metadata": {},
   "outputs": [
    {
     "name": "stdout",
     "output_type": "stream",
     "text": [
      "tensor([[0.2225, 0.2279, 0.1137, 0.2130, 0.2229],\n",
      "        [0.2539, 0.2801, 0.1167, 0.1839, 0.1654],\n",
      "        [0.2481, 0.2701, 0.1683, 0.1633, 0.1502]], grad_fn=<SoftmaxBackward>)\n"
     ]
    }
   ],
   "source": [
    "val1 = torch.rand(3, 5, requires_grad=True)\n",
    "hypothesis = F.softmax(val1, dim=1)\n",
    "print(hypothesis)"
   ]
  },
  {
   "cell_type": "code",
   "execution_count": 10,
   "id": "diagnostic-showcase",
   "metadata": {},
   "outputs": [
    {
     "data": {
      "text/plain": [
       "tensor([0, 1, 1])"
      ]
     },
     "execution_count": 10,
     "metadata": {},
     "output_type": "execute_result"
    }
   ],
   "source": [
    "y = torch.randint(5, (3, )).long()\n",
    "y"
   ]
  },
  {
   "cell_type": "code",
   "execution_count": 12,
   "id": "painted-technique",
   "metadata": {},
   "outputs": [
    {
     "data": {
      "text/plain": [
       "tensor([[1., 0., 0., 0., 0.],\n",
       "        [0., 1., 0., 0., 0.],\n",
       "        [0., 1., 0., 0., 0.]])"
      ]
     },
     "execution_count": 12,
     "metadata": {},
     "output_type": "execute_result"
    }
   ],
   "source": [
    "y_one_hot = torch.zeros_like(hypothesis)\n",
    "y_one_hot.scatter_(1, y.unsqueeze(1), 1)"
   ]
  },
  {
   "cell_type": "code",
   "execution_count": 15,
   "id": "spare-mineral",
   "metadata": {},
   "outputs": [
    {
     "name": "stdout",
     "output_type": "stream",
     "text": [
      "tensor(1.3616, grad_fn=<MeanBackward0>)\n"
     ]
    }
   ],
   "source": [
    "cost = (y_one_hot * -torch.log(hypothesis)).sum(dim=1).mean()\n",
    "print(cost)"
   ]
  },
  {
   "cell_type": "code",
   "execution_count": 16,
   "id": "activated-begin",
   "metadata": {},
   "outputs": [
    {
     "data": {
      "text/plain": [
       "tensor([[-1.5030, -1.4789, -2.1739, -1.5466, -1.5009],\n",
       "        [-1.3710, -1.2726, -2.1478, -1.6932, -1.7995],\n",
       "        [-1.3939, -1.3091, -1.7822, -1.8120, -1.8955]], grad_fn=<LogBackward>)"
      ]
     },
     "execution_count": 16,
     "metadata": {},
     "output_type": "execute_result"
    }
   ],
   "source": [
    "torch.log(F.softmax(val1, dim=1))"
   ]
  },
  {
   "cell_type": "code",
   "execution_count": 17,
   "id": "dress-heavy",
   "metadata": {},
   "outputs": [
    {
     "data": {
      "text/plain": [
       "tensor([[-1.5030, -1.4789, -2.1739, -1.5466, -1.5009],\n",
       "        [-1.3710, -1.2726, -2.1478, -1.6932, -1.7995],\n",
       "        [-1.3939, -1.3091, -1.7822, -1.8120, -1.8955]],\n",
       "       grad_fn=<LogSoftmaxBackward>)"
      ]
     },
     "execution_count": 17,
     "metadata": {},
     "output_type": "execute_result"
    }
   ],
   "source": [
    "F.log_softmax(val1, dim=1)"
   ]
  },
  {
   "cell_type": "code",
   "execution_count": 18,
   "id": "behavioral-messaging",
   "metadata": {},
   "outputs": [
    {
     "data": {
      "text/plain": [
       "tensor(1.3616, grad_fn=<MeanBackward0>)"
      ]
     },
     "execution_count": 18,
     "metadata": {},
     "output_type": "execute_result"
    }
   ],
   "source": [
    "#PyTorch also has the f.nLL_Loss() function that computes the negative loss likelihood\n",
    "\n",
    "#low-level\n",
    "(y_one_hot * -torch.log(hypothesis)).sum(dim=1).mean()"
   ]
  },
  {
   "cell_type": "code",
   "execution_count": 19,
   "id": "crude-porcelain",
   "metadata": {},
   "outputs": [
    {
     "data": {
      "text/plain": [
       "tensor(1.3616, grad_fn=<NllLossBackward>)"
      ]
     },
     "execution_count": 19,
     "metadata": {},
     "output_type": "execute_result"
    }
   ],
   "source": [
    "#high-level\n",
    "F.nll_loss(F.log_softmax(val1, dim=1), y)"
   ]
  },
  {
   "cell_type": "code",
   "execution_count": 20,
   "id": "informational-topic",
   "metadata": {},
   "outputs": [
    {
     "data": {
      "text/plain": [
       "tensor(1.3616, grad_fn=<NllLossBackward>)"
      ]
     },
     "execution_count": 20,
     "metadata": {},
     "output_type": "execute_result"
    }
   ],
   "source": [
    "F.cross_entropy(val1, y)"
   ]
  },
  {
   "cell_type": "markdown",
   "id": "still-companion",
   "metadata": {},
   "source": [
    "# Training with Low-Level Cross Entropy Loss"
   ]
  },
  {
   "cell_type": "code",
   "execution_count": 23,
   "id": "solved-dallas",
   "metadata": {},
   "outputs": [],
   "source": [
    "x_data = [[1, 2, 1, 1], \n",
    "                  [2, 1, 3, 2], \n",
    "                  [3, 1, 3, 4], \n",
    "                  [4, 1, 5, 5], \n",
    "                  [1, 7, 5, 5], \n",
    "                  [1, 2, 5, 6], \n",
    "                  [1, 6, 6, 6], \n",
    "                  [1, 7, 7, 7]]\n",
    "y_data = [2, 2, 2, 1, 1, 1, 0, 0] \n",
    "x_data = torch.FloatTensor(x_data)\n",
    "y_data = torch.LongTensor(y_data)"
   ]
  },
  {
   "cell_type": "code",
   "execution_count": 30,
   "id": "lesser-knife",
   "metadata": {},
   "outputs": [
    {
     "name": "stdout",
     "output_type": "stream",
     "text": [
      "Epoch    0/1000 Cost: 1.098612\n",
      "Epoch  100/1000 Cost: 0.901535\n",
      "Epoch  200/1000 Cost: 0.839114\n",
      "Epoch  300/1000 Cost: 0.807826\n",
      "Epoch  400/1000 Cost: 0.788472\n",
      "Epoch  500/1000 Cost: 0.774822\n",
      "Epoch  600/1000 Cost: 0.764449\n",
      "Epoch  700/1000 Cost: 0.756191\n",
      "Epoch  800/1000 Cost: 0.749398\n",
      "Epoch  900/1000 Cost: 0.743671\n",
      "Epoch 1000/1000 Cost: 0.738749\n"
     ]
    }
   ],
   "source": [
    "#Model initialization\n",
    "W = torch.zeros((4,3), requires_grad=True)\n",
    "b = torch.zeros(1, requires_grad=True)\n",
    "\n",
    "#optimizer\n",
    "optimizer = optim.SGD([W, b], lr=0.1)\n",
    "\n",
    "for epoch in range(1001):\n",
    "    hypothesis = F.softmax(x_data.matmul(W) + b, dim=1) \n",
    "    y_one_hot = torch.zeros_like(hypothesis) \n",
    "    y_one_hot.scatter_(1, y_data.unsqueeze(1), 1) \n",
    "    cost = (y_one_hot * -torch.log(F.softmax(hypothesis, dim=1))).sum(dim=1).mean() \n",
    "    optimizer.zero_grad() \n",
    "    cost.backward() \n",
    "    optimizer.step() \n",
    "    if epoch % 100 == 0: \n",
    "        print('Epoch {:4d}/{} Cost: {:.6f}'.format(epoch, 1000, cost.item())) "
   ]
  },
  {
   "cell_type": "code",
   "execution_count": null,
   "id": "stopped-dakota",
   "metadata": {},
   "outputs": [],
   "source": []
  }
 ],
 "metadata": {
  "kernelspec": {
   "display_name": "Python 3",
   "language": "python",
   "name": "python3"
  },
  "language_info": {
   "codemirror_mode": {
    "name": "ipython",
    "version": 3
   },
   "file_extension": ".py",
   "mimetype": "text/x-python",
   "name": "python",
   "nbconvert_exporter": "python",
   "pygments_lexer": "ipython3",
   "version": "3.8.5"
  }
 },
 "nbformat": 4,
 "nbformat_minor": 5
}
