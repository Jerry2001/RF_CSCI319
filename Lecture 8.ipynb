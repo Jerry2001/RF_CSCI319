{
 "cells": [
  {
   "cell_type": "code",
   "execution_count": 1,
   "id": "conceptual-lexington",
   "metadata": {},
   "outputs": [],
   "source": [
    "import torch\n",
    "import torchvision.datasets as dsets\n",
    "import torchvision.transforms as transforms\n",
    "import matplotlib.pyplot as plt\n",
    "import random"
   ]
  },
  {
   "cell_type": "code",
   "execution_count": 2,
   "id": "controversial-tuesday",
   "metadata": {},
   "outputs": [],
   "source": [
    "device = 'cuda' if torch.cuda.is_available() else 'cpu'"
   ]
  },
  {
   "cell_type": "code",
   "execution_count": 3,
   "id": "configured-atlas",
   "metadata": {},
   "outputs": [],
   "source": [
    "training_epochs = 15\n",
    "batch_size = 100"
   ]
  },
  {
   "cell_type": "code",
   "execution_count": 7,
   "id": "similar-internship",
   "metadata": {},
   "outputs": [],
   "source": [
    "mnist_train = dsets.MNIST(root = \"MNIST_data/\",\n",
    "                                                  train = True,\n",
    "                                                  transform = transforms.ToTensor(),\n",
    "                                                  download=False)\n",
    "mnist_test = dsets.MNIST(root = \"MNIST_data/\",\n",
    "                                                  train = False,\n",
    "                                                  transform = transforms.ToTensor(),\n",
    "                                                  download=False)"
   ]
  },
  {
   "cell_type": "code",
   "execution_count": 9,
   "id": "architectural-original",
   "metadata": {},
   "outputs": [],
   "source": [
    "data_loader = torch.utils.data.DataLoader(dataset = mnist_train,\n",
    "                                                                                 batch_size = batch_size,\n",
    "                                                                                 shuffle = True,\n",
    "                                                                                 drop_last=True) #60.000 images, 7.000 batch_size => 4.000 images are left"
   ]
  },
  {
   "cell_type": "code",
   "execution_count": null,
   "id": "specified-aluminum",
   "metadata": {},
   "outputs": [],
   "source": []
  }
 ],
 "metadata": {
  "kernelspec": {
   "display_name": "Python 3",
   "language": "python",
   "name": "python3"
  },
  "language_info": {
   "codemirror_mode": {
    "name": "ipython",
    "version": 3
   },
   "file_extension": ".py",
   "mimetype": "text/x-python",
   "name": "python",
   "nbconvert_exporter": "python",
   "pygments_lexer": "ipython3",
   "version": "3.8.5"
  }
 },
 "nbformat": 4,
 "nbformat_minor": 5
}
