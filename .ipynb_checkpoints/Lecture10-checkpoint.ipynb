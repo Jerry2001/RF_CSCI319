{
 "cells": [
  {
   "cell_type": "code",
   "execution_count": 1,
   "id": "dirty-anderson",
   "metadata": {},
   "outputs": [],
   "source": [
    "import torch\n",
    "import torchvision.datasets as dsets\n",
    "import torchvision.transforms as transforms\n",
    "import matplotlib.pyplot as plt\n",
    "import random"
   ]
  },
  {
   "cell_type": "code",
   "execution_count": 2,
   "id": "twelve-induction",
   "metadata": {},
   "outputs": [],
   "source": [
    "device = 'cuda' if torch.cuda.is_available() else 'cpu'"
   ]
  },
  {
   "cell_type": "code",
   "execution_count": 19,
   "id": "swedish-respondent",
   "metadata": {},
   "outputs": [],
   "source": [
    "training_epoch = 10\n",
    "batch_size = 100\n",
    "learning_rate = 1e-3\n",
    "drop_prob=0.3"
   ]
  },
  {
   "cell_type": "code",
   "execution_count": 20,
   "id": "peaceful-province",
   "metadata": {},
   "outputs": [],
   "source": [
    "mnist_train = dsets.MNIST(root = \"MNIST_data/\",\n",
    "                                                  train = True,\n",
    "                                                  transform = transforms.ToTensor(),\n",
    "                                                  download=False)\n",
    "mnist_test = dsets.MNIST(root = \"MNIST_data/\",\n",
    "                                                  train = False,\n",
    "                                                  transform = transforms.ToTensor(),\n",
    "                                                  download=False)"
   ]
  },
  {
   "cell_type": "code",
   "execution_count": 21,
   "id": "fitted-appeal",
   "metadata": {},
   "outputs": [],
   "source": [
    "data_loader = torch.utils.data.DataLoader(dataset = mnist_train,\n",
    "                                                                                 batch_size = batch_size,\n",
    "                                                                                 shuffle = True,\n",
    "                                                                                 drop_last=True) #60.000 images, 7.000 batch_size => 4.000 images are left"
   ]
  },
  {
   "cell_type": "code",
   "execution_count": 22,
   "id": "israeli-criterion",
   "metadata": {},
   "outputs": [],
   "source": [
    "linear1 = torch.nn.Linear(784, 256, bias=True)\n",
    "linear2 = torch.nn.Linear(256, 128, bias=True)\n",
    "linear3 = torch.nn.Linear(128, 10, bias=True)\n",
    "relu = torch.nn.ReLU()\n",
    "dropout = torch.nn.Dropout(p = drop_prob)"
   ]
  },
  {
   "cell_type": "code",
   "execution_count": 23,
   "id": "assured-bearing",
   "metadata": {},
   "outputs": [
    {
     "data": {
      "text/plain": [
       "Parameter containing:\n",
       "tensor([[ 0.0788,  0.1275, -0.0620,  ..., -0.1377,  0.0723, -0.0535],\n",
       "        [ 0.1084, -0.0643,  0.0442,  ...,  0.1849,  0.0869,  0.2071],\n",
       "        [-0.0723, -0.0579,  0.0255,  ...,  0.0880,  0.0079,  0.1402],\n",
       "        ...,\n",
       "        [-0.1238, -0.0863,  0.2016,  ...,  0.0507, -0.0489,  0.0633],\n",
       "        [ 0.1992, -0.1147,  0.1513,  ..., -0.0129, -0.0867, -0.1638],\n",
       "        [-0.0513,  0.0727,  0.1375,  ...,  0.1846,  0.0769,  0.1023]],\n",
       "       requires_grad=True)"
      ]
     },
     "execution_count": 23,
     "metadata": {},
     "output_type": "execute_result"
    }
   ],
   "source": [
    "torch.nn.init.xavier_uniform_(linear1.weight)\n",
    "torch.nn.init.xavier_uniform_(linear2.weight)\n",
    "torch.nn.init.xavier_uniform_(linear3.weight)"
   ]
  },
  {
   "cell_type": "code",
   "execution_count": 24,
   "id": "successful-dollar",
   "metadata": {},
   "outputs": [],
   "source": [
    "model = torch.nn.Sequential(linear1, relu, dropout,\n",
    "                                                       linear2, relu, dropout,\n",
    "                                                       linear3).to(device)"
   ]
  },
  {
   "cell_type": "code",
   "execution_count": 25,
   "id": "personalized-album",
   "metadata": {},
   "outputs": [],
   "source": [
    "loss = torch.nn.CrossEntropyLoss().to(device)\n",
    "optimizer = torch.optim.Adam(model.parameters(), lr=learning_rate)"
   ]
  },
  {
   "cell_type": "code",
   "execution_count": 28,
   "id": "found-cleveland",
   "metadata": {},
   "outputs": [
    {
     "name": "stdout",
     "output_type": "stream",
     "text": [
      "Epoch: 0001 cost =  0.051781423\n",
      "Epoch: 0002 cost =  0.046194252\n",
      "Epoch: 0003 cost =  0.043967646\n",
      "Epoch: 0004 cost =  0.042875208\n",
      "Epoch: 0005 cost =  0.040348522\n",
      "Epoch: 0006 cost =  0.035939004\n",
      "Epoch: 0007 cost =  0.036034819\n",
      "Epoch: 0008 cost =  0.036279093\n",
      "Epoch: 0009 cost =  0.032862190\n",
      "Epoch: 0010 cost =  0.033254270\n",
      "Done\n"
     ]
    }
   ],
   "source": [
    "total_batch = len(data_loader)\n",
    "model.train()\n",
    "for epoch in range(training_epoch):\n",
    "    avg_cost = 0\n",
    "    \n",
    "    for X, Y in data_loader:\n",
    "        X=X.view(-1, 28*28).to(device)\n",
    "        Y=Y.to(device)\n",
    "        \n",
    "        optimizer.zero_grad()\n",
    "        hypothesis=model(X)\n",
    "        cost=loss(hypothesis, Y)\n",
    "        cost.backward()\n",
    "        optimizer.step()\n",
    "        \n",
    "        avg_cost += cost/total_batch\n",
    "    print('Epoch:', '%04d' % (epoch + 1), 'cost = ', '{:.9f}'.format(avg_cost))\n",
    "print('Done')"
   ]
  },
  {
   "cell_type": "code",
   "execution_count": 29,
   "id": "republican-activity",
   "metadata": {},
   "outputs": [
    {
     "name": "stderr",
     "output_type": "stream",
     "text": [
      "/home/jerry/anaconda3/lib/python3.8/site-packages/torchvision/datasets/mnist.py:63: UserWarning: test_data has been renamed data\n",
      "  warnings.warn(\"test_data has been renamed data\")\n",
      "/home/jerry/anaconda3/lib/python3.8/site-packages/torchvision/datasets/mnist.py:53: UserWarning: test_labels has been renamed targets\n",
      "  warnings.warn(\"test_labels has been renamed targets\")\n"
     ]
    },
    {
     "name": "stdout",
     "output_type": "stream",
     "text": [
      "Accuray: 0.9821999669075012\n",
      "Label:  2\n",
      "Prediction:  2\n"
     ]
    }
   ],
   "source": [
    "with torch.no_grad():\n",
    "    model.eval()\n",
    "    \n",
    "    X_test = mnist_test.test_data.view(-1, 28 * 28).float().to(device)\n",
    "    Y_test = mnist_test.test_labels.to(device)\n",
    "    \n",
    "    prediction = model(X_test)\n",
    "    correct_prediction = torch.argmax(prediction, 1) == Y_test\n",
    "    accuracy = correct_prediction.float().mean()\n",
    "    print('Accuray:', accuracy.item())\n",
    "    \n",
    "    r = random.randint(0, len(mnist_test) - 1)\n",
    "    X_single_data = mnist_test.test_data[r:r + 1].view(-1, 28 * 28).float().to(device)\n",
    "    Y_single_data = mnist_test.test_labels[r:r + 1].to(device)\n",
    "    \n",
    "    print('Label: ', Y_single_data.item())\n",
    "    single_prediction = model(X_single_data)\n",
    "    print('Prediction: ', torch.argmax(single_prediction, 1).item())"
   ]
  },
  {
   "cell_type": "code",
   "execution_count": null,
   "id": "known-offer",
   "metadata": {},
   "outputs": [],
   "source": []
  }
 ],
 "metadata": {
  "kernelspec": {
   "display_name": "Python 3",
   "language": "python",
   "name": "python3"
  },
  "language_info": {
   "codemirror_mode": {
    "name": "ipython",
    "version": 3
   },
   "file_extension": ".py",
   "mimetype": "text/x-python",
   "name": "python",
   "nbconvert_exporter": "python",
   "pygments_lexer": "ipython3",
   "version": "3.8.5"
  }
 },
 "nbformat": 4,
 "nbformat_minor": 5
}
